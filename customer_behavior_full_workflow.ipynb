{
 "cells": [
  {
   "cell_type": "markdown",
   "id": "1f009f2d",
   "metadata": {},
   "source": [
    "# 🛒 Customer Purchase Behavior Analysis\n",
    "Complete Workflow (Google Colab)\n"
   ]
  },
  {
   "cell_type": "code",
   "execution_count": null,
   "id": "fae95be2",
   "metadata": {},
   "outputs": [],
   "source": [
    "\n",
    "# 📂 Upload CSV files into Colab\n",
    "from google.colab import files\n",
    "\n",
    "uploaded = files.upload()\n"
   ]
  },
  {
   "cell_type": "code",
   "execution_count": null,
   "id": "56059958",
   "metadata": {},
   "outputs": [],
   "source": [
    "\n",
    "# 📚 Import Libraries\n",
    "import pandas as pd\n",
    "\n",
    "# Load datasets\n",
    "customers = pd.read_csv(\"customers.csv\")\n",
    "products = pd.read_csv(\"products.csv\")\n",
    "orders = pd.read_csv(\"orders.csv\")\n",
    "\n",
    "# Preview the data\n",
    "print(\"Customers Data:\")\n",
    "display(customers.head())\n",
    "\n",
    "print(\"\\nProducts Data:\")\n",
    "display(products.head())\n",
    "\n",
    "print(\"\\nOrders Data:\")\n",
    "display(orders.head())\n"
   ]
  },
  {
   "cell_type": "code",
   "execution_count": null,
   "id": "c42fb6e8",
   "metadata": {},
   "outputs": [],
   "source": [
    "\n",
    "# 🧹 Data Cleaning & Preparation\n",
    "\n",
    "# Convert dates to datetime\n",
    "customers['signup_date'] = pd.to_datetime(customers['signup_date'])\n",
    "orders['order_date'] = pd.to_datetime(orders['order_date'])\n",
    "\n",
    "# Remove duplicates (if any)\n",
    "customers.drop_duplicates(inplace=True)\n",
    "products.drop_duplicates(inplace=True)\n",
    "orders.drop_duplicates(inplace=True)\n",
    "\n",
    "# Handle missing values\n",
    "customers.fillna({'gender': 'Other', 'loyalty_tier': 'Unknown'}, inplace=True)\n",
    "products.fillna({'stock_flag': 'In Stock'}, inplace=True)\n",
    "\n",
    "# Create derived fields\n",
    "orders['net_order_value'] = orders['order_value'] - orders['discount']\n",
    "\n",
    "print(\"✅ Cleaning done\")\n"
   ]
  },
  {
   "cell_type": "code",
   "execution_count": null,
   "id": "b0af5e0c",
   "metadata": {},
   "outputs": [],
   "source": [
    "\n",
    "# 🔗 Merge Orders with Customers & Products for Analysis\n",
    "merged = orders.merge(customers, on=\"customer_id\", how=\"left\") \\\n",
    "               .merge(products, on=\"product_id\", how=\"left\")\n",
    "\n",
    "print(\"Merged dataset shape:\", merged.shape)\n",
    "display(merged.head())\n"
   ]
  },
  {
   "cell_type": "code",
   "execution_count": null,
   "id": "1a464607",
   "metadata": {},
   "outputs": [],
   "source": [
    "\n",
    "# 📊 RFM Analysis (Recency, Frequency, Monetary)\n",
    "\n",
    "# Latest date in dataset\n",
    "latest_date = merged['order_date'].max()\n",
    "\n",
    "# RFM table\n",
    "rfm = merged.groupby('customer_id').agg({\n",
    "    'order_date': lambda x: (latest_date - x.max()).days,\n",
    "    'order_id': 'count',\n",
    "    'net_order_value': 'sum'\n",
    "}).reset_index()\n",
    "\n",
    "rfm.columns = ['customer_id', 'Recency', 'Frequency', 'Monetary']\n",
    "\n",
    "print(\"✅ RFM Table created\")\n",
    "display(rfm.head())\n",
    "\n",
    "# Save RFM data\n",
    "rfm.to_csv(\"rfm_analysis.csv\", index=False)\n"
   ]
  },
  {
   "cell_type": "code",
   "execution_count": null,
   "id": "c15a3540",
   "metadata": {},
   "outputs": [],
   "source": [
    "\n",
    "# 💾 Save Cleaned Data for Tableau / Power BI Dashboard\n",
    "merged.to_csv(\"cleaned_orders.csv\", index=False)\n",
    "print(\"✅ Cleaned dataset saved as cleaned_orders.csv\")\n",
    "print(\"✅ RFM analysis saved as rfm_analysis.csv\")\n"
   ]
  }
 ],
 "metadata": {},
 "nbformat": 4,
 "nbformat_minor": 5
}